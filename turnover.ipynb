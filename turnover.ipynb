{
 "cells": [
  {
   "cell_type": "markdown",
   "id": "629d643b-5501-4510-8f8e-83bd764f1229",
   "metadata": {},
   "source": [
    "# Data Science - Practice\n",
    "\n",
    "El cliente Stark Industries se ha planteado el objetivo de mejorar sus contrataciones.\n",
    "Dentro de sus principales problemas, Stark Industries identifica la rotación de personal, es decir, los\n",
    "colaboradores que abandonan la compañía. Stark Industries ha recolectado algunos datos para poder\n",
    "comprender mejor el fenómeno de la rotación de personal.\n",
    "\n",
    "Objetivo general\n",
    "\n",
    "Comprobar si con los datos obtenidos se puede identificar si un empleado dejara o no la empresa.\n",
    "\n",
    "Dataset:\n",
    "turnover.csv"
   ]
  },
  {
   "cell_type": "markdown",
   "id": "8c5c753b-b97f-4e19-a27d-bff3633d449f",
   "metadata": {},
   "source": [
    "### Glosario del dataset\n",
    "\n",
    "<ul>\n",
    "    <li>stag : Experiencia (tiempo).</li>\n",
    "    <li>event : Deserción de trabajo (1: Abandona, 0: Se queda).</li>\n",
    "    <li>gender : Feminino(f), Másculino(m).</li>\n",
    "    <li>age : Edad del empleado (años).</li>\n",
    "    <li>industry : Industria del empleado.</li>\n",
    "    <li>profession : Profesión del empleado.</li>\n",
    "    <li>traffic : Si el empleado vino por recomendación, paginas, etc.</li>\n",
    "    <li>coach : Presencia de un entrenador en el periodo de prueba (No,Yes,My head).</li>\n",
    "    <li>head gender : Sexo del supervisor.</li>\n",
    "    <li>greywage : White(salario mínimo) /Grey (pequeña cantidad por encima del mínimo).</li>\n",
    "    <li>way : Tranporte para ir a trabajar.</li>\n",
    "    <li>extraversion : extraversión</li>\n",
    "    <li>independ -> agreeableness : simpatía</li>\n",
    "    <li>selfcontrol -> conscientiousness : escrupulosidad</li>\n",
    "    <li>anxiety -> neuroticism : neuroticismo</li>\n",
    "    <li>novator -> openness : franqueza</li>\n",
    "</ul>\n",
    "\n",
    "> Nota: Se utiliza la traducción especificada para las columnas independ, selfcontrol, anxiety y novator"
   ]
  },
  {
   "cell_type": "markdown",
   "id": "327d315a-489c-4c91-99a5-5585c1e0dc0c",
   "metadata": {},
   "source": [
    "## 1.- Recolectar datos"
   ]
  },
  {
   "cell_type": "code",
   "execution_count": 6,
   "id": "6ec0d4c8-677f-4c7b-a60f-3b712c92cef1",
   "metadata": {},
   "outputs": [],
   "source": [
    "# Importar las librerías necesarias para la obtención y visualización de los datos\n",
    "import matplotlib.pyplot as plt\n",
    "import numpy as np\n",
    "import pandas as pd\n",
    "import seaborn as sns"
   ]
  },
  {
   "cell_type": "code",
   "execution_count": 8,
   "id": "fd589054-22a0-42b4-9f74-9f63ed54fe13",
   "metadata": {},
   "outputs": [
    {
     "data": {
      "text/html": [
       "<div>\n",
       "<style scoped>\n",
       "    .dataframe tbody tr th:only-of-type {\n",
       "        vertical-align: middle;\n",
       "    }\n",
       "\n",
       "    .dataframe tbody tr th {\n",
       "        vertical-align: top;\n",
       "    }\n",
       "\n",
       "    .dataframe thead th {\n",
       "        text-align: right;\n",
       "    }\n",
       "</style>\n",
       "<table border=\"1\" class=\"dataframe\">\n",
       "  <thead>\n",
       "    <tr style=\"text-align: right;\">\n",
       "      <th></th>\n",
       "      <th>stag</th>\n",
       "      <th>event</th>\n",
       "      <th>gender</th>\n",
       "      <th>age</th>\n",
       "      <th>industry</th>\n",
       "      <th>profession</th>\n",
       "      <th>traffic</th>\n",
       "      <th>coach</th>\n",
       "      <th>head_gender</th>\n",
       "      <th>greywage</th>\n",
       "      <th>way</th>\n",
       "      <th>extraversion</th>\n",
       "      <th>independ</th>\n",
       "      <th>selfcontrol</th>\n",
       "      <th>anxiety</th>\n",
       "      <th>novator</th>\n",
       "    </tr>\n",
       "  </thead>\n",
       "  <tbody>\n",
       "    <tr>\n",
       "      <th>0</th>\n",
       "      <td>7.030801</td>\n",
       "      <td>1</td>\n",
       "      <td>m</td>\n",
       "      <td>35.0</td>\n",
       "      <td>Banks</td>\n",
       "      <td>HR</td>\n",
       "      <td>rabrecNErab</td>\n",
       "      <td>no</td>\n",
       "      <td>f</td>\n",
       "      <td>white</td>\n",
       "      <td>bus</td>\n",
       "      <td>6.2</td>\n",
       "      <td>4.1</td>\n",
       "      <td>5.7</td>\n",
       "      <td>7.1</td>\n",
       "      <td>8.3</td>\n",
       "    </tr>\n",
       "    <tr>\n",
       "      <th>1</th>\n",
       "      <td>22.965092</td>\n",
       "      <td>1</td>\n",
       "      <td>m</td>\n",
       "      <td>33.0</td>\n",
       "      <td>Banks</td>\n",
       "      <td>HR</td>\n",
       "      <td>empjs</td>\n",
       "      <td>no</td>\n",
       "      <td>m</td>\n",
       "      <td>white</td>\n",
       "      <td>bus</td>\n",
       "      <td>6.2</td>\n",
       "      <td>4.1</td>\n",
       "      <td>5.7</td>\n",
       "      <td>7.1</td>\n",
       "      <td>8.3</td>\n",
       "    </tr>\n",
       "    <tr>\n",
       "      <th>2</th>\n",
       "      <td>15.934292</td>\n",
       "      <td>1</td>\n",
       "      <td>f</td>\n",
       "      <td>35.0</td>\n",
       "      <td>PowerGeneration</td>\n",
       "      <td>HR</td>\n",
       "      <td>rabrecNErab</td>\n",
       "      <td>no</td>\n",
       "      <td>m</td>\n",
       "      <td>white</td>\n",
       "      <td>bus</td>\n",
       "      <td>6.2</td>\n",
       "      <td>6.2</td>\n",
       "      <td>2.6</td>\n",
       "      <td>4.8</td>\n",
       "      <td>8.3</td>\n",
       "    </tr>\n",
       "    <tr>\n",
       "      <th>3</th>\n",
       "      <td>15.934292</td>\n",
       "      <td>1</td>\n",
       "      <td>f</td>\n",
       "      <td>35.0</td>\n",
       "      <td>PowerGeneration</td>\n",
       "      <td>HR</td>\n",
       "      <td>rabrecNErab</td>\n",
       "      <td>no</td>\n",
       "      <td>m</td>\n",
       "      <td>white</td>\n",
       "      <td>bus</td>\n",
       "      <td>5.4</td>\n",
       "      <td>7.6</td>\n",
       "      <td>4.9</td>\n",
       "      <td>2.5</td>\n",
       "      <td>6.7</td>\n",
       "    </tr>\n",
       "    <tr>\n",
       "      <th>4</th>\n",
       "      <td>8.410678</td>\n",
       "      <td>1</td>\n",
       "      <td>m</td>\n",
       "      <td>32.0</td>\n",
       "      <td>Retail</td>\n",
       "      <td>Commercial</td>\n",
       "      <td>youjs</td>\n",
       "      <td>yes</td>\n",
       "      <td>f</td>\n",
       "      <td>white</td>\n",
       "      <td>bus</td>\n",
       "      <td>3.0</td>\n",
       "      <td>4.1</td>\n",
       "      <td>8.0</td>\n",
       "      <td>7.1</td>\n",
       "      <td>3.7</td>\n",
       "    </tr>\n",
       "  </tbody>\n",
       "</table>\n",
       "</div>"
      ],
      "text/plain": [
       "        stag  event gender   age         industry  profession      traffic  \\\n",
       "0   7.030801      1      m  35.0            Banks          HR  rabrecNErab   \n",
       "1  22.965092      1      m  33.0            Banks          HR        empjs   \n",
       "2  15.934292      1      f  35.0  PowerGeneration          HR  rabrecNErab   \n",
       "3  15.934292      1      f  35.0  PowerGeneration          HR  rabrecNErab   \n",
       "4   8.410678      1      m  32.0           Retail  Commercial        youjs   \n",
       "\n",
       "  coach head_gender greywage  way  extraversion  independ  selfcontrol  \\\n",
       "0    no           f    white  bus           6.2       4.1          5.7   \n",
       "1    no           m    white  bus           6.2       4.1          5.7   \n",
       "2    no           m    white  bus           6.2       6.2          2.6   \n",
       "3    no           m    white  bus           5.4       7.6          4.9   \n",
       "4   yes           f    white  bus           3.0       4.1          8.0   \n",
       "\n",
       "   anxiety  novator  \n",
       "0      7.1      8.3  \n",
       "1      7.1      8.3  \n",
       "2      4.8      8.3  \n",
       "3      2.5      6.7  \n",
       "4      7.1      3.7  "
      ]
     },
     "execution_count": 8,
     "metadata": {},
     "output_type": "execute_result"
    }
   ],
   "source": [
    "# Lectura de datos desde el archivo csv, en caso de que el archivo no tenga la codificación por defecto revisar cual es la apropiada.\n",
    "data = pd.read_csv(\"turnover.csv\", encoding='ISO-8859-1')\n",
    "\n",
    "# Revisando los datos\n",
    "data.head()"
   ]
  },
  {
   "cell_type": "code",
   "execution_count": 9,
   "id": "a4b3df2b-2d08-46c2-a288-74c42401f1b3",
   "metadata": {},
   "outputs": [
    {
     "data": {
      "text/plain": [
       "(1129, 16)"
      ]
     },
     "execution_count": 9,
     "metadata": {},
     "output_type": "execute_result"
    }
   ],
   "source": [
    "# Tamaño del dataset\n",
    "data.shape"
   ]
  },
  {
   "cell_type": "markdown",
   "id": "b30cf120-a876-4995-88ff-23aa9a0a04fb",
   "metadata": {},
   "source": [
    "### 1.1.- Limpieza de datos"
   ]
  },
  {
   "cell_type": "code",
   "execution_count": 10,
   "id": "02c0aa7f-a4bb-4916-b757-65260d6942c4",
   "metadata": {},
   "outputs": [
    {
     "data": {
      "text/html": [
       "<div>\n",
       "<style scoped>\n",
       "    .dataframe tbody tr th:only-of-type {\n",
       "        vertical-align: middle;\n",
       "    }\n",
       "\n",
       "    .dataframe tbody tr th {\n",
       "        vertical-align: top;\n",
       "    }\n",
       "\n",
       "    .dataframe thead th {\n",
       "        text-align: right;\n",
       "    }\n",
       "</style>\n",
       "<table border=\"1\" class=\"dataframe\">\n",
       "  <thead>\n",
       "    <tr style=\"text-align: right;\">\n",
       "      <th></th>\n",
       "      <th>stag</th>\n",
       "      <th>event</th>\n",
       "      <th>gender</th>\n",
       "      <th>age</th>\n",
       "      <th>industry</th>\n",
       "      <th>profession</th>\n",
       "      <th>traffic</th>\n",
       "      <th>coach</th>\n",
       "      <th>head_gender</th>\n",
       "      <th>greywage</th>\n",
       "      <th>way</th>\n",
       "      <th>extraversion</th>\n",
       "      <th>agreeableness</th>\n",
       "      <th>conscientiousness</th>\n",
       "      <th>neuroticism</th>\n",
       "      <th>openness</th>\n",
       "    </tr>\n",
       "  </thead>\n",
       "  <tbody>\n",
       "    <tr>\n",
       "      <th>0</th>\n",
       "      <td>7.030801</td>\n",
       "      <td>1</td>\n",
       "      <td>m</td>\n",
       "      <td>35.0</td>\n",
       "      <td>Banks</td>\n",
       "      <td>HR</td>\n",
       "      <td>rabrecNErab</td>\n",
       "      <td>no</td>\n",
       "      <td>f</td>\n",
       "      <td>white</td>\n",
       "      <td>bus</td>\n",
       "      <td>6.2</td>\n",
       "      <td>4.1</td>\n",
       "      <td>5.7</td>\n",
       "      <td>7.1</td>\n",
       "      <td>8.3</td>\n",
       "    </tr>\n",
       "    <tr>\n",
       "      <th>1</th>\n",
       "      <td>22.965092</td>\n",
       "      <td>1</td>\n",
       "      <td>m</td>\n",
       "      <td>33.0</td>\n",
       "      <td>Banks</td>\n",
       "      <td>HR</td>\n",
       "      <td>empjs</td>\n",
       "      <td>no</td>\n",
       "      <td>m</td>\n",
       "      <td>white</td>\n",
       "      <td>bus</td>\n",
       "      <td>6.2</td>\n",
       "      <td>4.1</td>\n",
       "      <td>5.7</td>\n",
       "      <td>7.1</td>\n",
       "      <td>8.3</td>\n",
       "    </tr>\n",
       "    <tr>\n",
       "      <th>2</th>\n",
       "      <td>15.934292</td>\n",
       "      <td>1</td>\n",
       "      <td>f</td>\n",
       "      <td>35.0</td>\n",
       "      <td>PowerGeneration</td>\n",
       "      <td>HR</td>\n",
       "      <td>rabrecNErab</td>\n",
       "      <td>no</td>\n",
       "      <td>m</td>\n",
       "      <td>white</td>\n",
       "      <td>bus</td>\n",
       "      <td>6.2</td>\n",
       "      <td>6.2</td>\n",
       "      <td>2.6</td>\n",
       "      <td>4.8</td>\n",
       "      <td>8.3</td>\n",
       "    </tr>\n",
       "    <tr>\n",
       "      <th>3</th>\n",
       "      <td>15.934292</td>\n",
       "      <td>1</td>\n",
       "      <td>f</td>\n",
       "      <td>35.0</td>\n",
       "      <td>PowerGeneration</td>\n",
       "      <td>HR</td>\n",
       "      <td>rabrecNErab</td>\n",
       "      <td>no</td>\n",
       "      <td>m</td>\n",
       "      <td>white</td>\n",
       "      <td>bus</td>\n",
       "      <td>5.4</td>\n",
       "      <td>7.6</td>\n",
       "      <td>4.9</td>\n",
       "      <td>2.5</td>\n",
       "      <td>6.7</td>\n",
       "    </tr>\n",
       "    <tr>\n",
       "      <th>4</th>\n",
       "      <td>8.410678</td>\n",
       "      <td>1</td>\n",
       "      <td>m</td>\n",
       "      <td>32.0</td>\n",
       "      <td>Retail</td>\n",
       "      <td>Commercial</td>\n",
       "      <td>youjs</td>\n",
       "      <td>yes</td>\n",
       "      <td>f</td>\n",
       "      <td>white</td>\n",
       "      <td>bus</td>\n",
       "      <td>3.0</td>\n",
       "      <td>4.1</td>\n",
       "      <td>8.0</td>\n",
       "      <td>7.1</td>\n",
       "      <td>3.7</td>\n",
       "    </tr>\n",
       "  </tbody>\n",
       "</table>\n",
       "</div>"
      ],
      "text/plain": [
       "        stag  event gender   age         industry  profession      traffic  \\\n",
       "0   7.030801      1      m  35.0            Banks          HR  rabrecNErab   \n",
       "1  22.965092      1      m  33.0            Banks          HR        empjs   \n",
       "2  15.934292      1      f  35.0  PowerGeneration          HR  rabrecNErab   \n",
       "3  15.934292      1      f  35.0  PowerGeneration          HR  rabrecNErab   \n",
       "4   8.410678      1      m  32.0           Retail  Commercial        youjs   \n",
       "\n",
       "  coach head_gender greywage  way  extraversion  agreeableness  \\\n",
       "0    no           f    white  bus           6.2            4.1   \n",
       "1    no           m    white  bus           6.2            4.1   \n",
       "2    no           m    white  bus           6.2            6.2   \n",
       "3    no           m    white  bus           5.4            7.6   \n",
       "4   yes           f    white  bus           3.0            4.1   \n",
       "\n",
       "   conscientiousness  neuroticism  openness  \n",
       "0                5.7          7.1       8.3  \n",
       "1                5.7          7.1       8.3  \n",
       "2                2.6          4.8       8.3  \n",
       "3                4.9          2.5       6.7  \n",
       "4                8.0          7.1       3.7  "
      ]
     },
     "execution_count": 10,
     "metadata": {},
     "output_type": "execute_result"
    }
   ],
   "source": [
    "# Renombramos columnas\n",
    "data = data.rename(columns={\"independ\": \"agreeableness\", \"selfcontrol\": \"conscientiousness\", \"anxiety\": \"neuroticism\", \"novator\": \"openness\"})\n",
    "\n",
    "data.head()"
   ]
  },
  {
   "cell_type": "code",
   "execution_count": 11,
   "id": "179f67f9-dd6e-49a6-88e7-6d922bfde37c",
   "metadata": {},
   "outputs": [
    {
     "name": "stdout",
     "output_type": "stream",
     "text": [
      "<class 'pandas.core.frame.DataFrame'>\n",
      "RangeIndex: 1129 entries, 0 to 1128\n",
      "Data columns (total 16 columns):\n",
      " #   Column             Non-Null Count  Dtype  \n",
      "---  ------             --------------  -----  \n",
      " 0   stag               1129 non-null   float64\n",
      " 1   event              1129 non-null   int64  \n",
      " 2   gender             1129 non-null   object \n",
      " 3   age                1129 non-null   float64\n",
      " 4   industry           1129 non-null   object \n",
      " 5   profession         1129 non-null   object \n",
      " 6   traffic            1129 non-null   object \n",
      " 7   coach              1129 non-null   object \n",
      " 8   head_gender        1129 non-null   object \n",
      " 9   greywage           1129 non-null   object \n",
      " 10  way                1129 non-null   object \n",
      " 11  extraversion       1129 non-null   float64\n",
      " 12  agreeableness      1129 non-null   float64\n",
      " 13  conscientiousness  1129 non-null   float64\n",
      " 14  neuroticism        1129 non-null   float64\n",
      " 15  openness           1129 non-null   float64\n",
      "dtypes: float64(7), int64(1), object(8)\n",
      "memory usage: 141.2+ KB\n"
     ]
    }
   ],
   "source": [
    "# Revisamos si existen valores nulos, en caso de existir valores nulos aplicar alguna tecnica para trabajar con ellos.\n",
    "data.info()"
   ]
  },
  {
   "cell_type": "code",
   "execution_count": 12,
   "id": "32ad91e1-befd-419b-aa84-e6386aa53730",
   "metadata": {},
   "outputs": [
    {
     "data": {
      "text/plain": [
       "stag                 False\n",
       "event                False\n",
       "gender               False\n",
       "age                  False\n",
       "industry             False\n",
       "profession           False\n",
       "traffic              False\n",
       "coach                False\n",
       "head_gender          False\n",
       "greywage             False\n",
       "way                  False\n",
       "extraversion         False\n",
       "agreeableness        False\n",
       "conscientiousness    False\n",
       "neuroticism          False\n",
       "openness             False\n",
       "dtype: bool"
      ]
     },
     "execution_count": 12,
     "metadata": {},
     "output_type": "execute_result"
    }
   ],
   "source": [
    "# Verificar si hay datos faltantes por columna\n",
    "data.isnull().any()"
   ]
  },
  {
   "cell_type": "markdown",
   "id": "8c4d4f2f-2ae8-43ce-a460-b6749de88b9e",
   "metadata": {},
   "source": [
    "Como no se tienen datos nulos se puede avanzar en el análisis para ver cómo se comportan."
   ]
  },
  {
   "cell_type": "markdown",
   "id": "fc45cc29-4d06-406f-9c85-e60381bf51e4",
   "metadata": {
    "tags": []
   },
   "source": [
    "## 2.- Análisis estadístico\n",
    "\n",
    "Dentro de este análisis se podrán plantear hipótesis y a partir de los datos validarlas o refutarlas.<br>\n",
    "<br>Hipótesis: \n",
    "<li>La edad (age) es un factor que influye en gran medida a la permanencia en el empleo.</li>\n",
    "<li>La experiencia (stag) es un factor que afecta la permanencia en el empleo.</li>\n",
    "<li>El tipo de sueldo (grey/white) es un factor que afecta la permanencia en el empleo.</li>\n",
    "<li>Las variables extraversion, agreeableness, conscientiousness, neuroticism y openness son factores que deben tener un gran impacto en la permanencia/abandono del empleo.</li>"
   ]
  },
  {
   "cell_type": "code",
   "execution_count": 13,
   "id": "b5589bd8-3b51-43ec-9116-c6a4a3d0dba9",
   "metadata": {},
   "outputs": [
    {
     "data": {
      "text/html": [
       "<div>\n",
       "<style scoped>\n",
       "    .dataframe tbody tr th:only-of-type {\n",
       "        vertical-align: middle;\n",
       "    }\n",
       "\n",
       "    .dataframe tbody tr th {\n",
       "        vertical-align: top;\n",
       "    }\n",
       "\n",
       "    .dataframe thead th {\n",
       "        text-align: right;\n",
       "    }\n",
       "</style>\n",
       "<table border=\"1\" class=\"dataframe\">\n",
       "  <thead>\n",
       "    <tr style=\"text-align: right;\">\n",
       "      <th></th>\n",
       "      <th>stag</th>\n",
       "      <th>event</th>\n",
       "      <th>age</th>\n",
       "      <th>extraversion</th>\n",
       "      <th>agreeableness</th>\n",
       "      <th>conscientiousness</th>\n",
       "      <th>neuroticism</th>\n",
       "      <th>openness</th>\n",
       "    </tr>\n",
       "  </thead>\n",
       "  <tbody>\n",
       "    <tr>\n",
       "      <th>count</th>\n",
       "      <td>1129.000000</td>\n",
       "      <td>1129.000000</td>\n",
       "      <td>1129.000000</td>\n",
       "      <td>1129.000000</td>\n",
       "      <td>1129.000000</td>\n",
       "      <td>1129.000000</td>\n",
       "      <td>1129.000000</td>\n",
       "      <td>1129.000000</td>\n",
       "    </tr>\n",
       "    <tr>\n",
       "      <th>mean</th>\n",
       "      <td>36.627526</td>\n",
       "      <td>0.505757</td>\n",
       "      <td>31.066965</td>\n",
       "      <td>5.592383</td>\n",
       "      <td>5.478034</td>\n",
       "      <td>5.597254</td>\n",
       "      <td>5.665633</td>\n",
       "      <td>5.879628</td>\n",
       "    </tr>\n",
       "    <tr>\n",
       "      <th>std</th>\n",
       "      <td>34.096597</td>\n",
       "      <td>0.500188</td>\n",
       "      <td>6.996147</td>\n",
       "      <td>1.851637</td>\n",
       "      <td>1.703312</td>\n",
       "      <td>1.980101</td>\n",
       "      <td>1.709176</td>\n",
       "      <td>1.904016</td>\n",
       "    </tr>\n",
       "    <tr>\n",
       "      <th>min</th>\n",
       "      <td>0.394251</td>\n",
       "      <td>0.000000</td>\n",
       "      <td>18.000000</td>\n",
       "      <td>1.000000</td>\n",
       "      <td>1.000000</td>\n",
       "      <td>1.000000</td>\n",
       "      <td>1.700000</td>\n",
       "      <td>1.000000</td>\n",
       "    </tr>\n",
       "    <tr>\n",
       "      <th>25%</th>\n",
       "      <td>11.728953</td>\n",
       "      <td>0.000000</td>\n",
       "      <td>26.000000</td>\n",
       "      <td>4.600000</td>\n",
       "      <td>4.100000</td>\n",
       "      <td>4.100000</td>\n",
       "      <td>4.800000</td>\n",
       "      <td>4.400000</td>\n",
       "    </tr>\n",
       "    <tr>\n",
       "      <th>50%</th>\n",
       "      <td>24.344969</td>\n",
       "      <td>1.000000</td>\n",
       "      <td>30.000000</td>\n",
       "      <td>5.400000</td>\n",
       "      <td>5.500000</td>\n",
       "      <td>5.700000</td>\n",
       "      <td>5.600000</td>\n",
       "      <td>6.000000</td>\n",
       "    </tr>\n",
       "    <tr>\n",
       "      <th>75%</th>\n",
       "      <td>51.318275</td>\n",
       "      <td>1.000000</td>\n",
       "      <td>36.000000</td>\n",
       "      <td>7.000000</td>\n",
       "      <td>6.900000</td>\n",
       "      <td>7.200000</td>\n",
       "      <td>7.100000</td>\n",
       "      <td>7.500000</td>\n",
       "    </tr>\n",
       "    <tr>\n",
       "      <th>max</th>\n",
       "      <td>179.449692</td>\n",
       "      <td>1.000000</td>\n",
       "      <td>58.000000</td>\n",
       "      <td>10.000000</td>\n",
       "      <td>10.000000</td>\n",
       "      <td>10.000000</td>\n",
       "      <td>10.000000</td>\n",
       "      <td>10.000000</td>\n",
       "    </tr>\n",
       "  </tbody>\n",
       "</table>\n",
       "</div>"
      ],
      "text/plain": [
       "              stag        event          age  extraversion  agreeableness  \\\n",
       "count  1129.000000  1129.000000  1129.000000   1129.000000    1129.000000   \n",
       "mean     36.627526     0.505757    31.066965      5.592383       5.478034   \n",
       "std      34.096597     0.500188     6.996147      1.851637       1.703312   \n",
       "min       0.394251     0.000000    18.000000      1.000000       1.000000   \n",
       "25%      11.728953     0.000000    26.000000      4.600000       4.100000   \n",
       "50%      24.344969     1.000000    30.000000      5.400000       5.500000   \n",
       "75%      51.318275     1.000000    36.000000      7.000000       6.900000   \n",
       "max     179.449692     1.000000    58.000000     10.000000      10.000000   \n",
       "\n",
       "       conscientiousness  neuroticism     openness  \n",
       "count        1129.000000  1129.000000  1129.000000  \n",
       "mean            5.597254     5.665633     5.879628  \n",
       "std             1.980101     1.709176     1.904016  \n",
       "min             1.000000     1.700000     1.000000  \n",
       "25%             4.100000     4.800000     4.400000  \n",
       "50%             5.700000     5.600000     6.000000  \n",
       "75%             7.200000     7.100000     7.500000  \n",
       "max            10.000000    10.000000    10.000000  "
      ]
     },
     "execution_count": 13,
     "metadata": {},
     "output_type": "execute_result"
    }
   ],
   "source": [
    "# Como se distribuyen las variables numericas\n",
    "data.describe()"
   ]
  },
  {
   "cell_type": "code",
   "execution_count": 14,
   "id": "9d7d9750-b90b-4f76-b975-b3c3cabd1795",
   "metadata": {},
   "outputs": [
    {
     "data": {
      "text/html": [
       "<div>\n",
       "<style scoped>\n",
       "    .dataframe tbody tr th:only-of-type {\n",
       "        vertical-align: middle;\n",
       "    }\n",
       "\n",
       "    .dataframe tbody tr th {\n",
       "        vertical-align: top;\n",
       "    }\n",
       "\n",
       "    .dataframe thead th {\n",
       "        text-align: right;\n",
       "    }\n",
       "</style>\n",
       "<table border=\"1\" class=\"dataframe\">\n",
       "  <thead>\n",
       "    <tr style=\"text-align: right;\">\n",
       "      <th></th>\n",
       "      <th>gender</th>\n",
       "      <th>industry</th>\n",
       "      <th>profession</th>\n",
       "      <th>traffic</th>\n",
       "      <th>coach</th>\n",
       "      <th>head_gender</th>\n",
       "      <th>greywage</th>\n",
       "      <th>way</th>\n",
       "    </tr>\n",
       "  </thead>\n",
       "  <tbody>\n",
       "    <tr>\n",
       "      <th>count</th>\n",
       "      <td>1129</td>\n",
       "      <td>1129</td>\n",
       "      <td>1129</td>\n",
       "      <td>1129</td>\n",
       "      <td>1129</td>\n",
       "      <td>1129</td>\n",
       "      <td>1129</td>\n",
       "      <td>1129</td>\n",
       "    </tr>\n",
       "    <tr>\n",
       "      <th>unique</th>\n",
       "      <td>2</td>\n",
       "      <td>16</td>\n",
       "      <td>15</td>\n",
       "      <td>8</td>\n",
       "      <td>3</td>\n",
       "      <td>2</td>\n",
       "      <td>2</td>\n",
       "      <td>3</td>\n",
       "    </tr>\n",
       "    <tr>\n",
       "      <th>top</th>\n",
       "      <td>f</td>\n",
       "      <td>Retail</td>\n",
       "      <td>HR</td>\n",
       "      <td>youjs</td>\n",
       "      <td>no</td>\n",
       "      <td>m</td>\n",
       "      <td>white</td>\n",
       "      <td>bus</td>\n",
       "    </tr>\n",
       "    <tr>\n",
       "      <th>freq</th>\n",
       "      <td>853</td>\n",
       "      <td>289</td>\n",
       "      <td>757</td>\n",
       "      <td>318</td>\n",
       "      <td>683</td>\n",
       "      <td>584</td>\n",
       "      <td>1002</td>\n",
       "      <td>681</td>\n",
       "    </tr>\n",
       "  </tbody>\n",
       "</table>\n",
       "</div>"
      ],
      "text/plain": [
       "       gender industry profession traffic coach head_gender greywage   way\n",
       "count    1129     1129       1129    1129  1129        1129     1129  1129\n",
       "unique      2       16         15       8     3           2        2     3\n",
       "top         f   Retail         HR   youjs    no           m    white   bus\n",
       "freq      853      289        757     318   683         584     1002   681"
      ]
     },
     "execution_count": 14,
     "metadata": {},
     "output_type": "execute_result"
    }
   ],
   "source": [
    "# Como se comportan las variables categoricas\n",
    "data.describe(include=['object'])"
   ]
  },
  {
   "cell_type": "code",
   "execution_count": 15,
   "id": "b87181e1-96e7-45e0-83f5-bab580798b06",
   "metadata": {},
   "outputs": [
    {
     "data": {
      "text/html": [
       "<div>\n",
       "<style scoped>\n",
       "    .dataframe tbody tr th:only-of-type {\n",
       "        vertical-align: middle;\n",
       "    }\n",
       "\n",
       "    .dataframe tbody tr th {\n",
       "        vertical-align: top;\n",
       "    }\n",
       "\n",
       "    .dataframe thead th {\n",
       "        text-align: right;\n",
       "    }\n",
       "</style>\n",
       "<table border=\"1\" class=\"dataframe\">\n",
       "  <thead>\n",
       "    <tr style=\"text-align: right;\">\n",
       "      <th></th>\n",
       "      <th>stag</th>\n",
       "      <th>age</th>\n",
       "      <th>extraversion</th>\n",
       "      <th>agreeableness</th>\n",
       "      <th>conscientiousness</th>\n",
       "      <th>neuroticism</th>\n",
       "      <th>openness</th>\n",
       "    </tr>\n",
       "    <tr>\n",
       "      <th>event</th>\n",
       "      <th></th>\n",
       "      <th></th>\n",
       "      <th></th>\n",
       "      <th></th>\n",
       "      <th></th>\n",
       "      <th></th>\n",
       "      <th></th>\n",
       "    </tr>\n",
       "  </thead>\n",
       "  <tbody>\n",
       "    <tr>\n",
       "      <th>0</th>\n",
       "      <td>38.294819</td>\n",
       "      <td>31.411829</td>\n",
       "      <td>5.563441</td>\n",
       "      <td>5.388710</td>\n",
       "      <td>5.677419</td>\n",
       "      <td>5.774910</td>\n",
       "      <td>5.866487</td>\n",
       "    </tr>\n",
       "    <tr>\n",
       "      <th>1</th>\n",
       "      <td>34.998191</td>\n",
       "      <td>30.729952</td>\n",
       "      <td>5.620665</td>\n",
       "      <td>5.565324</td>\n",
       "      <td>5.518914</td>\n",
       "      <td>5.558844</td>\n",
       "      <td>5.892469</td>\n",
       "    </tr>\n",
       "  </tbody>\n",
       "</table>\n",
       "</div>"
      ],
      "text/plain": [
       "            stag        age  extraversion  agreeableness  conscientiousness  \\\n",
       "event                                                                         \n",
       "0      38.294819  31.411829      5.563441       5.388710           5.677419   \n",
       "1      34.998191  30.729952      5.620665       5.565324           5.518914   \n",
       "\n",
       "       neuroticism  openness  \n",
       "event                         \n",
       "0         5.774910  5.866487  \n",
       "1         5.558844  5.892469  "
      ]
     },
     "execution_count": 15,
     "metadata": {},
     "output_type": "execute_result"
    }
   ],
   "source": [
    "# Revisamos las relación entre las variables numéricas contra la columna “event”\n",
    "data.groupby(['event']).mean()"
   ]
  },
  {
   "cell_type": "code",
   "execution_count": 16,
   "id": "10518aa2-a02d-426d-ab66-0a92018fb6ed",
   "metadata": {},
   "outputs": [
    {
     "data": {
      "text/plain": [
       "stag                -0.048361\n",
       "event                1.000000\n",
       "age                 -0.048751\n",
       "extraversion         0.015458\n",
       "agreeableness        0.051864\n",
       "conscientiousness   -0.040040\n",
       "neuroticism         -0.063232\n",
       "openness             0.006825\n",
       "dtype: float64"
      ]
     },
     "execution_count": 16,
     "metadata": {},
     "output_type": "execute_result"
    }
   ],
   "source": [
    "# Revisamos la correlación existente entre las columnas numéricas contra la columna \"event\"\n",
    "data.corrwith(data.event)"
   ]
  },
  {
   "cell_type": "markdown",
   "id": "8e52476e-df07-4a3b-9323-ee6611c35132",
   "metadata": {
    "tags": []
   },
   "source": [
    "Se revisará de forma visual la relación entre las columnas para identificar que características son las más importantes para utilizar en el modelo."
   ]
  },
  {
   "cell_type": "code",
   "execution_count": 17,
   "id": "2ba02eb9-f7e5-4896-aca8-5c7659d2e62a",
   "metadata": {},
   "outputs": [
    {
     "name": "stdout",
     "output_type": "stream",
     "text": [
      "Las columnas con valores categóricos son: ['gender', 'industry', 'profession', 'traffic', 'coach', 'head_gender', 'greywage', 'way']\n",
      "Las columnas con valores numéricos son: ['stag', 'event', 'age', 'extraversion', 'agreeableness', 'conscientiousness', 'neuroticism', 'openness']\n"
     ]
    }
   ],
   "source": [
    "categorical_cols = [col for col in data.columns if data[col].dtype == 'object']\n",
    "numerical_cols = [col for col in data.columns if data[col].dtype != 'object']\n",
    "print(f\"Las columnas con valores categóricos son: {categorical_cols}\")\n",
    "print(f\"Las columnas con valores numéricos son: {numerical_cols}\")"
   ]
  },
  {
   "cell_type": "markdown",
   "id": "5584ed05-1556-406f-8c49-52b74c372d97",
   "metadata": {},
   "source": [
    "### 2.1.- Revisión de variables numéricas"
   ]
  },
  {
   "cell_type": "code",
   "execution_count": 12,
   "id": "5af92659-3ada-4917-93c3-b86b33e8ba2f",
   "metadata": {},
   "outputs": [
    {
     "data": {
      "image/png": "[encoded data removed]",
      "text/plain": [
       "<Figure size 360x360 with 1 Axes>"
      ]
     },
     "metadata": {
      "needs_background": "light"
     },
     "output_type": "display_data"
    },
    {
     "data": {
      "image/png": "[encoded data removed]",
      "text/plain": [
       "<Figure size 360x360 with 1 Axes>"
      ]
     },
     "metadata": {
      "needs_background": "light"
     },
     "output_type": "display_data"
    },
    {
     "data": {
      "image/png": "[encoded data removed]",
      "text/plain": [
       "<Figure size 360x360 with 1 Axes>"
      ]
     },
     "metadata": {
      "needs_background": "light"
     },
     "output_type": "display_data"
    },
    {
     "data": {
      "image/png": "[encoded data removed]",
      "text/plain": [
       "<Figure size 360x360 with 1 Axes>"
      ]
     },
     "metadata": {
      "needs_background": "light"
     },
     "output_type": "display_data"
    },
    {
     "data": {
      "image/png": "[encoded data removed]",
      "text/plain": [
       "<Figure size 360x360 with 1 Axes>"
      ]
     },
     "metadata": {
      "needs_background": "light"
     },
     "output_type": "display_data"
    },
    {
     "data": {
      "image/png": "[encoded data removed]",
      "text/plain": [
       "<Figure size 360x360 with 1 Axes>"
      ]
     },
     "metadata": {
      "needs_background": "light"
     },
     "output_type": "display_data"
    },
    {
     "data": {
      "image/png": "[encoded data removed]",
      "text/plain": [
       "<Figure size 360x360 with 1 Axes>"
      ]
     },
     "metadata": {
      "needs_background": "light"
     },
     "output_type": "display_data"
    },
    {
     "data": {
      "image/png": "[encoded data removed]",
      "text/plain": [
       "<Figure size 360x360 with 1 Axes>"
      ]
     },
     "metadata": {
      "needs_background": "light"
     },
     "output_type": "display_data"
    }
   ],
   "source": [
    "for col in numerical_cols:\n",
    "    sns.lmplot(x=col, y='event', data=data)"
   ]
  },
  {
   "cell_type": "markdown",
   "id": "cbcd9663-d139-42eb-b0bb-377ef12c7536",
   "metadata": {},
   "source": [
    "A partir de las gráficas anteriores se puede obtener las siguientes conclusiones:\n",
    "<li>Stag: Se aprecia una correlación negativa ya que mientras mayor sea la Experiencia, menor cantidad abandona.</li>\n",
    "<li>Age: Se puede apreciar una correlación negativa ya que, a mayor Edad, menor cantidad abandona.</li>\n",
    "<li>Extraversion: Se puede apreciar una correlación positiva, aunque es muy pequeña.</li>\n",
    "<li>Agreeableness: Se puede apreciar una correlación positiva, ya que, a mayor simpatía, mayor es la cantidad que abandona.</li>\n",
    "<li>Conscientiousness: Se aprecia una correlación negativa ya que mientras mayor sea la escrupulosidad, menor cantidad abandona.</li>\n",
    "<li>Neuroticism: Se aprecia una correlación negativa ya que mientras mayor sea el neuroticismo, menor cantidad abandona.</li>\n",
    "<li>Openness: Se puede apreciar una correlación positiva, aunque es muy pequeña.</li>\n",
    "Con estas observaciones podemos notar que las variables Stag, Age, Agreeableness, Conscientiousness y Neuroticism son las que proveen información importante para utilizar en nuestro modelo.<br>\n",
    "Las variables Extraversion y Openness no tienen un gran impacto en la permanencia/abandono del empleo, por lo que podemos prescindir de ellas para entrenar nuestro modelo."
   ]
  },
  {
   "cell_type": "markdown",
   "id": "79042c56-3687-47f3-bfb1-b99122757303",
   "metadata": {},
   "source": [
    "### 2.2.- Revisión de variables categóricas\n",
    "\n",
    "Para hacer más clara la relación entre las variables y el objetivo, se graficó los valores de forma normalizada."
   ]
  },
  {
   "cell_type": "code",
   "execution_count": 13,
   "id": "70cf514f-2858-432b-bc94-9f486d285afe",
   "metadata": {},
   "outputs": [],
   "source": [
    "def tablas_graficas(data, col):\n",
    "    '''Funcion que grafica las caracteristicas categoricas '''\n",
    "    for columna in col:\n",
    "        tabla = pd.crosstab(index=data[columna],columns=data['event'], normalize=\"index\")\n",
    "        print(f\"Tabulación cruzada de {columna}\")\n",
    "        print(tabla)\n",
    "        tabla.plot.bar(subplots=False, figsize=(10, 5))\n",
    "        plt.show()"
   ]
  },
  {
   "cell_type": "code",
   "execution_count": 14,
   "id": "be768bd9-4778-4b35-8c25-0a0e0ac2e8ef",
   "metadata": {},
   "outputs": [
    {
     "name": "stdout",
     "output_type": "stream",
     "text": [
      "Tabulación cruzada de gender\n",
      "event          0         1\n",
      "gender                    \n",
      "f       0.488863  0.511137\n",
      "m       0.510870  0.489130\n"
     ]
    },
    {
     "data": {
      "image/png": "[encoded data removed]",
      "text/plain": [
       "<Figure size 720x360 with 1 Axes>"
      ]
     },
     "metadata": {
      "needs_background": "light"
     },
     "output_type": "display_data"
    },
    {
     "name": "stdout",
     "output_type": "stream",
     "text": [
      "Tabulación cruzada de industry\n",
      "event                   0         1\n",
      "industry                           \n",
      " HoReCa          0.454545  0.545455\n",
      "Agriculture      0.333333  0.666667\n",
      "Banks            0.342105  0.657895\n",
      "Building         0.243902  0.756098\n",
      "Consult          0.391892  0.608108\n",
      "IT               0.721311  0.278689\n",
      "Mining           0.416667  0.583333\n",
      "Pharma           0.450000  0.550000\n",
      "PowerGeneration  0.605263  0.394737\n",
      "RealEstate       0.615385  0.384615\n",
      "Retail           0.529412  0.470588\n",
      "State            0.363636  0.636364\n",
      "Telecom          0.611111  0.388889\n",
      "etc              0.425532  0.574468\n",
      "manufacture      0.517241  0.482759\n",
      "transport        0.578947  0.421053\n"
     ]
    },
    {
     "data": {
      "image/png": "[encoded data removed]",
      "text/plain": [
       "<Figure size 720x360 with 1 Axes>"
      ]
     },
     "metadata": {
      "needs_background": "light"
     },
     "output_type": "display_data"
    },
    {
     "name": "stdout",
     "output_type": "stream",
     "text": [
      "Tabulación cruzada de profession\n",
      "event                       0         1\n",
      "profession                             \n",
      "Accounting           0.400000  0.600000\n",
      "BusinessDevelopment  0.407407  0.592593\n",
      "Commercial           0.347826  0.652174\n",
      "Consult              0.360000  0.640000\n",
      "Engineer             0.266667  0.733333\n",
      "Finanñe              0.294118  0.705882\n",
      "HR                   0.528402  0.471598\n",
      "IT                   0.662162  0.337838\n",
      "Law                  0.285714  0.714286\n",
      "Marketing            0.322581  0.677419\n",
      "PR                   0.166667  0.833333\n",
      "Sales                0.469697  0.530303\n",
      "Teaching             0.000000  1.000000\n",
      "etc                  0.459459  0.540541\n",
      "manage               0.318182  0.681818\n"
     ]
    },
    {
     "data": {
      "image/png": "[encoded data removed]",
      "text/plain": [
       "<Figure size 720x360 with 1 Axes>"
      ]
     },
     "metadata": {
      "needs_background": "light"
     },
     "output_type": "display_data"
    },
    {
     "name": "stdout",
     "output_type": "stream",
     "text": [
      "Tabulación cruzada de traffic\n",
      "event               0         1\n",
      "traffic                        \n",
      "KA           0.462687  0.537313\n",
      "advert       0.606061  0.393939\n",
      "empjs        0.475806  0.524194\n",
      "friends      0.644068  0.355932\n",
      "rabrecNErab  0.398104  0.601896\n",
      "recNErab     0.512821  0.487179\n",
      "referal      0.336842  0.663158\n",
      "youjs        0.556604  0.443396\n"
     ]
    },
    {
     "data": {
      "image/png": "[encoded data removed]",
      "text/plain": [
       "<Figure size 720x360 with 1 Axes>"
      ]
     },
     "metadata": {
      "needs_background": "light"
     },
     "output_type": "display_data"
    },
    {
     "name": "stdout",
     "output_type": "stream",
     "text": [
      "Tabulación cruzada de coach\n",
      "event           0         1\n",
      "coach                      \n",
      "my head  0.538217  0.461783\n",
      "no       0.486091  0.513909\n",
      "yes      0.431818  0.568182\n"
     ]
    },
    {
     "data": {
      "image/png": "[encoded data removed]",
      "text/plain": [
       "<Figure size 720x360 with 1 Axes>"
      ]
     },
     "metadata": {
      "needs_background": "light"
     },
     "output_type": "display_data"
    },
    {
     "name": "stdout",
     "output_type": "stream",
     "text": [
      "Tabulación cruzada de head_gender\n",
      "event               0         1\n",
      "head_gender                    \n",
      "f            0.515596  0.484404\n",
      "m            0.474315  0.525685\n"
     ]
    },
    {
     "data": {
      "image/png": "[encoded data removed]",
      "text/plain": [
       "<Figure size 720x360 with 1 Axes>"
      ]
     },
     "metadata": {
      "needs_background": "light"
     },
     "output_type": "display_data"
    },
    {
     "name": "stdout",
     "output_type": "stream",
     "text": [
      "Tabulación cruzada de greywage\n",
      "event            0         1\n",
      "greywage                    \n",
      "grey      0.425197  0.574803\n",
      "white     0.502994  0.497006\n"
     ]
    },
    {
     "data": {
      "image/png": "[encoded data removed]",
      "text/plain": [
       "<Figure size 720x360 with 1 Axes>"
      ]
     },
     "metadata": {
      "needs_background": "light"
     },
     "output_type": "display_data"
    },
    {
     "name": "stdout",
     "output_type": "stream",
     "text": [
      "Tabulación cruzada de way\n",
      "event         0         1\n",
      "way                      \n",
      "bus    0.480176  0.519824\n",
      "car    0.474320  0.525680\n",
      "foot   0.632479  0.367521\n"
     ]
    },
    {
     "data": {
      "image/png": "[encoded data removed]",
      "text/plain": [
       "<Figure size 720x360 with 1 Axes>"
      ]
     },
     "metadata": {
      "needs_background": "light"
     },
     "output_type": "display_data"
    }
   ],
   "source": [
    "tablas_graficas(data, categorical_cols)"
   ]
  },
  {
   "cell_type": "markdown",
   "id": "4a5b9d51-027c-4a14-98ad-4f9ee3f7de5e",
   "metadata": {},
   "source": [
    "De las gráficas/tablas anteriores podemos obtener las siguientes conclusiones:\n",
    "<li>Gender: Ya que los datos se encuentran muy similares se puede decir que el genero no afecta la permanencia/abandono del empleo.</li>\n",
    "<li>Industry: Se puede notar una tendencia en ciertas industrias que si afectan la permanencia/abandono del empleo.</li>\n",
    "<li>Profession: De igual forma se puede notar que ciertas profesiones tienen una mayor tendencia a la permanencia/abandono del empleo.</li>\n",
    "<li>Traffic: Se aprecia que de acuerdo al tipo de referencia afecta la permanencia/abandono del empleo.</li>\n",
    "<li>Coach: Al parecer no existe mucha diferencia entre tener o no coach para la permanencia/abandono del empleo.</li>\n",
    "<li>Head gender: De igual forma no parece afectar en gran manera el género del supervisor.</li>\n",
    "<li>Greywage: Este afecta cuando se trata del salario tipo Grey.</li>\n",
    "<li>Way: Lo que se puede apreciar en la grafica es que este afecta cuando se habla de llegar al trabajo a pie.</li><br>\n",
    "Por lo tanto, podemos descartar las variables gender y head_gender ya que estas tienen una repercusión mínima.\n"
   ]
  },
  {
   "cell_type": "markdown",
   "id": "308c0c46-7860-4a1f-8b74-4c05961c9e0a",
   "metadata": {},
   "source": [
    "### 2.3.- Conclusiones del análisis estadístico\n",
    "Con la información obtenida previamente se puede revisar el estado de nuestras hipótesis.\n",
    "<li>En primer lugar, para la edad se observa que presenta una correlación negativa, lo que indica que a mayor edad, mayor permanencia, con lo que podemos concluir que la hipótesis es verdadera.</li>\n",
    "<li>Se observa que para la experiencia (stag) tiene una correlación negativa, lo que quiere decir que mientras mas experiencia, mayor permanencia, con lo que se puede concluir que nuestra hipótesis es verdadera.</li>\n",
    "<li>Se puede apreciar que en el caso del sueldo (greywage), este parece afectar solo cuando se habla de sueldo por arriba del mínimo, pero contrario a la hipótesis los datos indican que una mayor parte de los que tienen el sueldo tipo grey abandonan el empleo, por lo que la hipótesis es falsa (refutada).</li>\n",
    "<li>Finalmente, nuestra hipótesis dice que las variables extraversion, agreeableness, conscientiousness, neuroticism y openness tienen un gran impacto en la permanencia/abandono del empleo y de acuerdo a la información que hemos obtenido la variable openness no tiene un impacto tan significativo ni en la permanencia ni en el abandono.</li>"
   ]
  },
  {
   "cell_type": "markdown",
   "id": "9981b86f-c04c-4b41-9d39-fd315504986a",
   "metadata": {},
   "source": [
    "## 3.- Machine learning\n",
    "Ya se definió las caracteristicas que son utiles para entrenar el modelo y se puede notar que algunas de estas son del tipo categorico, para que se pueda entrenar el modelo se debe contar con valores numericos por lo que se debe realizar un tratamiento a los datos categoricos, existen diferentes propuestas para hacer esto, en este caso se utilizó el metodo One Hot Encoding.<br>\n",
    "De igual forma se descartaron las variables que no aportan gran información para entrenar el modelo.\n",
    "<br>\n",
    "### 3.1.- Convertir los valores categoricos en numericos por el metodo One Hot Encoding y retirar las columnas que no utilizaremos"
   ]
  },
  {
   "cell_type": "code",
   "execution_count": 15,
   "id": "57f6a827-131a-4731-9c96-ff480fbab0d6",
   "metadata": {},
   "outputs": [
    {
     "name": "stdout",
     "output_type": "stream",
     "text": [
      "        stag   age  agreeableness  conscientiousness  neuroticism    f    m  \\\n",
      "0   7.030801  35.0            4.1                5.7          7.1  0.0  1.0   \n",
      "1  22.965092  33.0            4.1                5.7          7.1  0.0  1.0   \n",
      "2  15.934292  35.0            6.2                2.6          4.8  1.0  0.0   \n",
      "3  15.934292  35.0            7.6                4.9          2.5  1.0  0.0   \n",
      "4   8.410678  32.0            4.1                8.0          7.1  0.0  1.0   \n",
      "\n",
      "    HoReCa  Agriculture  Banks  ...  my head   no  yes    f    m  grey  white  \\\n",
      "0      0.0          0.0    1.0  ...      0.0  1.0  0.0  1.0  0.0   0.0    1.0   \n",
      "1      0.0          0.0    1.0  ...      0.0  1.0  0.0  0.0  1.0   0.0    1.0   \n",
      "2      0.0          0.0    0.0  ...      0.0  1.0  0.0  0.0  1.0   0.0    1.0   \n",
      "3      0.0          0.0    0.0  ...      0.0  1.0  0.0  0.0  1.0   0.0    1.0   \n",
      "4      0.0          0.0    0.0  ...      0.0  0.0  1.0  1.0  0.0   0.0    1.0   \n",
      "\n",
      "   bus  car  foot  \n",
      "0  1.0  0.0   0.0  \n",
      "1  1.0  0.0   0.0  \n",
      "2  1.0  0.0   0.0  \n",
      "3  1.0  0.0   0.0  \n",
      "4  1.0  0.0   0.0  \n",
      "\n",
      "[5 rows x 56 columns]\n"
     ]
    }
   ],
   "source": [
    "from sklearn.preprocessing import OneHotEncoder\n",
    "\n",
    "oh_encoder = OneHotEncoder()\n",
    "data_X = data.drop(['event','extraversion','openness'], axis=1)\n",
    "data_y = data.event\n",
    "\n",
    "categorical_cols = [col for col in categorical_cols if col not in ['gender',  'head_gender']]\n",
    "categorical_cols = [col for col in data.columns if data[col].dtype == 'object']\n",
    "oh_columns = oh_encoder.fit_transform(data_X[categorical_cols])\n",
    "flat_categories = [item for l in oh_encoder.categories_ for item in l]\n",
    "new_columns = pd.DataFrame(oh_columns.toarray(), columns=flat_categories)\n",
    "\n",
    "data_X = data_X.drop(categorical_cols, axis=1)\n",
    "data_X = pd.concat([data_X, new_columns],axis='columns')\n",
    "print(data_X.head())"
   ]
  },
  {
   "cell_type": "markdown",
   "id": "d08bf3ca-8a73-481b-9f6d-6e8d38aa92c4",
   "metadata": {},
   "source": [
    "Se dividió el dataset en el conjunto de datos que se utilizará para entrenar el modelo (train) y el conjunto de datos con el cual se validará la predicción (test)."
   ]
  },
  {
   "cell_type": "code",
   "execution_count": 16,
   "id": "8a36aafc-d367-489e-ae7f-60c552a2e6de",
   "metadata": {},
   "outputs": [],
   "source": [
    "# Divide data\n",
    "from sklearn.model_selection import train_test_split\n",
    "\n",
    "X_train, X_valid, y_train, y_valid = train_test_split(data_X, data_y, train_size = 0.8, test_size= 0.2, random_state = 0)"
   ]
  },
  {
   "cell_type": "markdown",
   "id": "8a9d4e6b-46c5-4e3e-96e4-b1fac6709d2f",
   "metadata": {},
   "source": [
    "Se creó una función en la cual se agrupó las métricas con las cuales se evaluará el desempeño de los modelos.\n",
    "Dentro de las métricas se encuentra:\n",
    "<li>Error absoluto medio</li>\n",
    "<li>Puntaje de exactitud</li>\n",
    "<li>Matriz de confusión</li>\n",
    "<li>Precisión</li>\n",
    "<li>Recall</li>\n",
    "<li>F1</li>\n",
    "<li>Reporte con las principales métricas de clasificación</li>\n",
    "<li>Grafica de la matriz de confusión</li>"
   ]
  },
  {
   "cell_type": "code",
   "execution_count": 17,
   "id": "ffb2e45c-9409-446c-a92c-fdfd366f009a",
   "metadata": {},
   "outputs": [],
   "source": [
    "from sklearn.metrics import mean_absolute_error, accuracy_score, confusion_matrix, precision_score, recall_score, f1_score, classification_report\n",
    "from sklearn.metrics import ConfusionMatrixDisplay\n",
    "\n",
    "def model_metrics(val, pred):\n",
    "    print(\"MAE\")\n",
    "    print(mean_absolute_error(val, pred))\n",
    "    print(\"Accuracy score\")\n",
    "    print(accuracy_score(val, pred))\n",
    "    print(\"Matriz de confusion\")\n",
    "    print(confusion_matrix(val, pred))\n",
    "    print(\"Precision\")\n",
    "    print(precision_score(val, pred))\n",
    "    print(\"Recall\")\n",
    "    print(recall_score(val, pred))\n",
    "    print(\"F1\")\n",
    "    print(f1_score(val, pred))\n",
    "    print(\"Report\")\n",
    "    print(classification_report(val, pred))\n",
    "    ConfusionMatrixDisplay.from_predictions(y_valid, preds)"
   ]
  },
  {
   "cell_type": "markdown",
   "id": "ee83b570-34c4-4bb8-89c3-68b92bed2708",
   "metadata": {},
   "source": [
    "### 3.2.- Selección de modelo\n",
    "Al ser un problema de clasificacion, se cuenta con los siguientes modelos:\n",
    "<li>Clasificador de bosque aleatorio (Random forest classifier)</li>\n",
    "<li>Clasificador de árbol de decisión (Decision tree classifier)</li>\n",
    "<li>Regresión logística (Logistic Regression)</li>\n",
    "<li>Clasificación de vectores de soporte (Support Vector Classification)</li>\n",
    "<li>K-Vecinos más cercanos (K-Nearest Neighbors)</li>\n",
    "Todos los modelos serán entrenados y validados con los mismos conjuntos de dato y a través de las métricas obtenidas se seleccionará el mejor de ellos."
   ]
  },
  {
   "cell_type": "markdown",
   "id": "d4ed26f8-905b-4490-8106-27f89480f5d3",
   "metadata": {},
   "source": [
    "#### 3.2.1.- Clasificador de bosque aleatorio (Random forest classifier)"
   ]
  },
  {
   "cell_type": "code",
   "execution_count": 18,
   "id": "87cc793f-4fcf-4e25-800e-0fe13bc38dfa",
   "metadata": {},
   "outputs": [
    {
     "name": "stdout",
     "output_type": "stream",
     "text": [
      "MAE\n",
      "0.29646017699115046\n",
      "Accuracy score\n",
      "0.7035398230088495\n",
      "Matriz de confusion\n",
      "[[77 39]\n",
      " [28 82]]\n",
      "Precision\n",
      "0.6776859504132231\n",
      "Recall\n",
      "0.7454545454545455\n",
      "F1\n",
      "0.7099567099567099\n",
      "Report\n",
      "              precision    recall  f1-score   support\n",
      "\n",
      "           0       0.73      0.66      0.70       116\n",
      "           1       0.68      0.75      0.71       110\n",
      "\n",
      "    accuracy                           0.70       226\n",
      "   macro avg       0.71      0.70      0.70       226\n",
      "weighted avg       0.71      0.70      0.70       226\n",
      "\n"
     ]
    },
    {
     "data": {
      "image/png": "[encoded data removed]",
      "text/plain": [
       "<Figure size 432x288 with 2 Axes>"
      ]
     },
     "metadata": {
      "needs_background": "light"
     },
     "output_type": "display_data"
    }
   ],
   "source": [
    "# Train the model\n",
    "from sklearn.ensemble import RandomForestClassifier\n",
    "\n",
    "model = RandomForestClassifier(n_estimators=1000, random_state=0)\n",
    "model.fit(X_train, y_train)\n",
    "preds = model.predict(X_valid)\n",
    "model_metrics(y_valid, preds)"
   ]
  },
  {
   "cell_type": "markdown",
   "id": "47786b72-ef44-4f41-b0a2-96e47fa177eb",
   "metadata": {},
   "source": [
    "#### 3.2.2.- Clasificador de árbol de decisión (Decision tree classifier)"
   ]
  },
  {
   "cell_type": "code",
   "execution_count": 19,
   "id": "7520462c-c581-42de-985a-297a40a907df",
   "metadata": {},
   "outputs": [
    {
     "name": "stdout",
     "output_type": "stream",
     "text": [
      "MAE\n",
      "0.3185840707964602\n",
      "Accuracy score\n",
      "0.6814159292035398\n",
      "Matriz de confusion\n",
      "[[79 37]\n",
      " [35 75]]\n",
      "Precision\n",
      "0.6696428571428571\n",
      "Recall\n",
      "0.6818181818181818\n",
      "F1\n",
      "0.6756756756756757\n",
      "Report\n",
      "              precision    recall  f1-score   support\n",
      "\n",
      "           0       0.69      0.68      0.69       116\n",
      "           1       0.67      0.68      0.68       110\n",
      "\n",
      "    accuracy                           0.68       226\n",
      "   macro avg       0.68      0.68      0.68       226\n",
      "weighted avg       0.68      0.68      0.68       226\n",
      "\n"
     ]
    },
    {
     "data": {
      "image/png": "[encoded data removed]",
      "text/plain": [
       "<Figure size 432x288 with 2 Axes>"
      ]
     },
     "metadata": {
      "needs_background": "light"
     },
     "output_type": "display_data"
    }
   ],
   "source": [
    "from sklearn.tree import DecisionTreeClassifier\n",
    "\n",
    "model_tree = DecisionTreeClassifier()\n",
    "model_tree.fit(X_train, y_train)\n",
    "preds = model_tree.predict(X_valid)\n",
    "model_metrics(y_valid, preds)"
   ]
  },
  {
   "cell_type": "markdown",
   "id": "1ce427d4-498c-47e0-b6c1-63051b268d72",
   "metadata": {},
   "source": [
    "#### 3.2.3.- Regresión logística (Logistic Regression)"
   ]
  },
  {
   "cell_type": "code",
   "execution_count": 20,
   "id": "86e738ce-63e7-433a-ad64-7009244e3640",
   "metadata": {},
   "outputs": [
    {
     "name": "stdout",
     "output_type": "stream",
     "text": [
      "MAE\n",
      "0.415929203539823\n",
      "Accuracy score\n",
      "0.584070796460177\n",
      "Matriz de confusion\n",
      "[[67 49]\n",
      " [45 65]]\n",
      "Precision\n",
      "0.5701754385964912\n",
      "Recall\n",
      "0.5909090909090909\n",
      "F1\n",
      "0.5803571428571428\n",
      "Report\n",
      "              precision    recall  f1-score   support\n",
      "\n",
      "           0       0.60      0.58      0.59       116\n",
      "           1       0.57      0.59      0.58       110\n",
      "\n",
      "    accuracy                           0.58       226\n",
      "   macro avg       0.58      0.58      0.58       226\n",
      "weighted avg       0.58      0.58      0.58       226\n",
      "\n"
     ]
    },
    {
     "data": {
      "image/png": "[encoded data removed]",
      "text/plain": [
       "<Figure size 432x288 with 2 Axes>"
      ]
     },
     "metadata": {
      "needs_background": "light"
     },
     "output_type": "display_data"
    }
   ],
   "source": [
    "from sklearn.linear_model import LogisticRegression\n",
    "\n",
    "model_log = LogisticRegression(max_iter=10000, C= 10)\n",
    "model_log.fit(X_train, y_train)\n",
    "preds = model_log.predict(X_valid)\n",
    "model_metrics(y_valid, preds)"
   ]
  },
  {
   "cell_type": "markdown",
   "id": "3f960a94-fe98-4818-a467-7d09cca50cd3",
   "metadata": {},
   "source": [
    "#### 3.2.4.- Clasificación de vectores de soporte (Support Vector Classification)"
   ]
  },
  {
   "cell_type": "code",
   "execution_count": 21,
   "id": "e3405a21-fd87-4a77-af09-5a3f9447a8df",
   "metadata": {},
   "outputs": [
    {
     "name": "stdout",
     "output_type": "stream",
     "text": [
      "MAE\n",
      "0.4336283185840708\n",
      "Accuracy score\n",
      "0.5663716814159292\n",
      "Matriz de confusion\n",
      "[[64 52]\n",
      " [46 64]]\n",
      "Precision\n",
      "0.5517241379310345\n",
      "Recall\n",
      "0.5818181818181818\n",
      "F1\n",
      "0.5663716814159292\n",
      "Report\n",
      "              precision    recall  f1-score   support\n",
      "\n",
      "           0       0.58      0.55      0.57       116\n",
      "           1       0.55      0.58      0.57       110\n",
      "\n",
      "    accuracy                           0.57       226\n",
      "   macro avg       0.57      0.57      0.57       226\n",
      "weighted avg       0.57      0.57      0.57       226\n",
      "\n"
     ]
    },
    {
     "data": {
      "image/png": "[encoded data removed]",
      "text/plain": [
       "<Figure size 432x288 with 2 Axes>"
      ]
     },
     "metadata": {
      "needs_background": "light"
     },
     "output_type": "display_data"
    }
   ],
   "source": [
    "from sklearn.svm import SVC\n",
    "\n",
    "model_svc = SVC(kernel='linear')\n",
    "model_svc.fit(X_train, y_train)\n",
    "preds = model_svc.predict(X_valid)\n",
    "model_metrics(y_valid, preds)"
   ]
  },
  {
   "cell_type": "markdown",
   "id": "a81049ed-daa7-4865-af4a-b361ca692c99",
   "metadata": {},
   "source": [
    "#### 3.2.5.- K-Vecinos más cercanos (K-Nearest Neighbors)"
   ]
  },
  {
   "cell_type": "code",
   "execution_count": 22,
   "id": "406ca9d4-df1b-4209-b08a-a75042a01c23",
   "metadata": {},
   "outputs": [
    {
     "name": "stdout",
     "output_type": "stream",
     "text": [
      "MAE\n",
      "0.40707964601769914\n",
      "Accuracy score\n",
      "0.5929203539823009\n",
      "Matriz de confusion\n",
      "[[95 21]\n",
      " [71 39]]\n",
      "Precision\n",
      "0.65\n",
      "Recall\n",
      "0.35454545454545455\n",
      "F1\n",
      "0.4588235294117647\n",
      "Report\n",
      "              precision    recall  f1-score   support\n",
      "\n",
      "           0       0.57      0.82      0.67       116\n",
      "           1       0.65      0.35      0.46       110\n",
      "\n",
      "    accuracy                           0.59       226\n",
      "   macro avg       0.61      0.59      0.57       226\n",
      "weighted avg       0.61      0.59      0.57       226\n",
      "\n"
     ]
    },
    {
     "data": {
      "image/png": "[encoded data removed]",
      "text/plain": [
       "<Figure size 432x288 with 2 Axes>"
      ]
     },
     "metadata": {
      "needs_background": "light"
     },
     "output_type": "display_data"
    }
   ],
   "source": [
    "from sklearn import neighbors\n",
    "\n",
    "model_knn = neighbors.KNeighborsClassifier(n_neighbors=2)\n",
    "model_knn.fit(X_train, y_train)\n",
    "preds = model_knn.predict(X_valid)\n",
    "model_metrics(y_valid, preds)"
   ]
  },
  {
   "cell_type": "markdown",
   "id": "a768228e-f7ee-4c71-8791-fe8fe8d9dd54",
   "metadata": {},
   "source": [
    "## 4.- Evaluación del modelo\n",
    "\n",
    "Como se puede observar el modelo que tiene el mejor comportamiento es el Clasificador de bosque aleatorio (Random forest classifier) por lo que se aplicará validación cruzada al mismo (cross-validation) y se obtendrá su curva ROC."
   ]
  },
  {
   "cell_type": "markdown",
   "id": "f7753874-c887-460a-a620-7d31791c85ce",
   "metadata": {},
   "source": [
    "### 4.1.- Cross-Validation"
   ]
  },
  {
   "cell_type": "code",
   "execution_count": 23,
   "id": "8fb507af-6125-4f56-a1a4-be2e2f6c14b6",
   "metadata": {},
   "outputs": [
    {
     "name": "stdout",
     "output_type": "stream",
     "text": [
      "[0.64088398 0.70165746 0.68508287 0.68888889 0.66666667]\n"
     ]
    }
   ],
   "source": [
    "from sklearn.model_selection import cross_val_score\n",
    "\n",
    "cross_tree = cross_val_score(model, X_train, y_train, cv=5, scoring=\"accuracy\")\n",
    "print(cross_tree)"
   ]
  },
  {
   "cell_type": "markdown",
   "id": "e0502ba7-76bf-4e7a-9008-77a54b596787",
   "metadata": {},
   "source": [
    "### 4.2.- Curva ROC"
   ]
  },
  {
   "cell_type": "code",
   "execution_count": 24,
   "id": "a4fb1fe7-f3aa-4555-8f6d-c15436492662",
   "metadata": {},
   "outputs": [
    {
     "data": {
      "image/png": "[encoded data removed]",
      "text/plain": [
       "<Figure size 432x288 with 1 Axes>"
      ]
     },
     "metadata": {
      "needs_background": "light"
     },
     "output_type": "display_data"
    },
    {
     "data": {
      "text/plain": [
       "0.6761172348131643"
      ]
     },
     "execution_count": 24,
     "metadata": {},
     "output_type": "execute_result"
    }
   ],
   "source": [
    "from sklearn.metrics import roc_curve, roc_auc_score\n",
    "from sklearn.model_selection import cross_val_predict\n",
    "\n",
    "cross_pred = cross_val_predict(model, X_train, y_train, cv=5)\n",
    "fpr, tpr, thresholds = roc_curve(y_train, cross_pred)\n",
    "plt.plot([0, 1], [0, 1], color=\"red\", linestyle=\"--\")\n",
    "plt.xlim([0.0, 1.0])\n",
    "plt.ylim([0.0, 1.05])\n",
    "plt.xlabel(\"False Positive Rate\")\n",
    "plt.ylabel(\"True Positive Rate\")\n",
    "plt.plot(fpr, tpr, linewidth=2, label=\"Curva ROC\")\n",
    "plt.show()\n",
    "roc_auc_score(y_train, cross_pred)"
   ]
  },
  {
   "cell_type": "markdown",
   "id": "e62a39ac-1ae3-46ae-9316-fffa9d520cd0",
   "metadata": {},
   "source": [
    "## 5.- Observaciones\n",
    "\n",
    "<li>Con respecto a la carga y limpieza de datos, se observa que los datos no tienen valores nulos, están en su mayoría equilibrados y solamente se debe tomar en cuenta el convertir las variables categóricas a numéricas para su uso en los modelos a entrenar.</li>\n",
    "<li>A partir del análisis exploratorio de datos nos permite darle un vistazo a la calidad de los datos, así como saber si podemos o no continuar con el proyecto, como resultado de este sabremos si pasaremos a la etapa de preprocesamiento de datos para poder aplicarlos a un modelo de machine learning.</li>\n",
    "<li>Dentro del análisis estadístico de los valores numéricos, la correlación y sus gráficas, nos proveen información para ver cómo es que dichas variables se relacionan o si se afectan entre sí, esto es especialmente importante para validar o refutar las hipótesis que se han planteado.</li>\n",
    "<li>Para la evaluación de los modelos, se utilizaron diferentes métricas, siendo en este caso Clasificador de bosque aleatorio (Random forest classifier) el que obtuvo los mejores resultados, después se aplicó cross-validation obteniendo las siguientes puntuaciones (scores): 0.64, 0.70, 0.68, 0.68 y 0.66, y su curva ROC se encuentra muy cercana a la diagonal, para entender que tan bueno es el modelo, idealmente para el caso de cross-validation los valores deberían ser 1 o muy cercanos y la curva ROC lo más cercana al punto izquierda-arriba de la grafica.</li>"
   ]
  },
  {
   "cell_type": "markdown",
   "id": "825111cf-24c4-4e4b-b0be-c9684a004b73",
   "metadata": {},
   "source": [
    "## 6.- Conclusiones\n",
    "<li>Como se comprobó no todas las variables brindan información sobre la permanencia/abandono del empleo.\n",
    "<li>El modelo que se ha creado nos permite clasificar a los empleados para saber si alguno tiene alto riesgo de rotacion, solo se debe tomar en cuenta que tan bueno es el modelo al realizar dicha clasificación y saber que se puede obtener clasificaciones incorrectas (un empleado que cumple con todos los requisitos para abandonar su empleo pero que se mantiene en el).</li>\n",
    "<li>Existen varias formas de medir el desempeño de un modelo de este tipo ya sea por su precisión, recall, su puntaje F1 y su matriz de confusión. Existe un método llamado validación cruzada (cross-validation) el cual permite evaluar la precisión de un modelo, este no se aplica a todos los modelos ya que por su forma de implementarse es costoso al igual que la curva ROC.</li>\n",
    "<li>Se podría agregar mas variables para mejorar el comportamiento del modelo, en este caso variables como prestaciones, promoción, distancia al lugar de trabajo, ambiente laboral, posibilidad de trabajar desde casa, etc nos pueden proveer mayor información y pueden tener una relación más significativa con la permanencia.</li>\n",
    "<li>Se podría generar un modelo el cual proporcione la probabilidad de que alguien permanezca o no en el empleo, en este caso se utilizaría un modelo de regresión, los cuales se utilizan para hacer predicciones.</li>\n",
    "<li>Ya que las personas más jóvenes  y menos experimentadas tienden al abandono, se recomienda apoyar a dichas personas con capacitaciones ya que con esto mejorarían su nivel de experiencia y de esta forma incrementar la probabilidad de permanencia.</li>"
   ]
  }
 ],
 "metadata": {
  "kernelspec": {
   "display_name": "Python 3 (ipykernel)",
   "language": "python",
   "name": "python3"
  },
  "language_info": {
   "codemirror_mode": {
    "name": "ipython",
    "version": 3
   },
   "file_extension": ".py",
   "mimetype": "text/x-python",
   "name": "python",
   "nbconvert_exporter": "python",
   "pygments_lexer": "ipython3",
   "version": "3.7.9"
  }
 },
 "nbformat": 4,
 "nbformat_minor": 5
}
